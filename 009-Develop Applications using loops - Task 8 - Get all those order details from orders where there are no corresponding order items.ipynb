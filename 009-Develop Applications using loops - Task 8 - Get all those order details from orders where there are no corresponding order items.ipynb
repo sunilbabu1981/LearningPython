{
 "cells": [
  {
   "cell_type": "markdown",
   "metadata": {},
   "source": [
    "Get all those order details from orders where there are no corresponding order items"
   ]
  },
  {
   "cell_type": "code",
   "execution_count": 1,
   "metadata": {},
   "outputs": [],
   "source": [
    "# function to read through a file and split the order lines\n",
    "def readData(filepath):\n",
    "    file = open(filepath)\n",
    "    data = file.read()\n",
    "    datalist = data.splitlines()\n",
    "    return datalist"
   ]
  },
  {
   "cell_type": "code",
   "execution_count": 2,
   "metadata": {},
   "outputs": [],
   "source": [
    "Orders = readData(\"/data/retail_db/orders/part-00000\")\n",
    "orderItems = readData(\"/data/retail_db/order_items/part-00000\")"
   ]
  },
  {
   "cell_type": "code",
   "execution_count": 3,
   "metadata": {},
   "outputs": [
    {
     "name": "stdout",
     "output_type": "stream",
     "text": [
      "<class 'set'>\n"
     ]
    }
   ],
   "source": [
    "OrdersfromOrderItems = set([])   # order items might have multiple rows for an order, \n",
    "print(type(OrdersfromOrderItems))# so set would appropriate to store unique orders from orderitems."
   ]
  },
  {
   "cell_type": "code",
   "execution_count": 4,
   "metadata": {},
   "outputs": [],
   "source": [
    "def getuniqueOrders(OrderItems):\n",
    "    for i in OrderItems:\n",
    "        OrdersfromOrderItems.add(i.split(',')[1])# store the orderid from orderitems in a set\n",
    "    return OrdersfromOrderItems"
   ]
  },
  {
   "cell_type": "code",
   "execution_count": 5,
   "metadata": {},
   "outputs": [],
   "source": [
    "#uniqueOrdersfromOrderItems = getuniqueOrders(orderItems)\n",
    "#uniqueOrdersfromOrderItems"
   ]
  },
  {
   "cell_type": "code",
   "execution_count": 6,
   "metadata": {},
   "outputs": [],
   "source": [
    "def getOrdersnotfoundinOrdItems(Orders,OrdersfromOrdItems):\n",
    "    missingOrders = []\n",
    "    for j in Orders: # since orderID is primary key in order, loop through  \n",
    "        if(j.split(',')[0] not in OrdersfromOrdItems): # and check if order id is in the set \n",
    "            missingOrders.append(j.split(',')[0]) # if not, append it to this list\n",
    "    return missingOrders"
   ]
  },
  {
   "cell_type": "code",
   "execution_count": 7,
   "metadata": {},
   "outputs": [
    {
     "data": {
      "text/plain": [
       "['3', '6', '22', '26', '32', '40', '47', '53', '54', '55']"
      ]
     },
     "execution_count": 7,
     "metadata": {},
     "output_type": "execute_result"
    }
   ],
   "source": [
    "MissingOrders = getOrdersnotfoundinOrdItems(Orders,getuniqueOrders(orderItems))\n",
    "MissingOrders[0:10]"
   ]
  }
 ],
 "metadata": {
  "kernelspec": {
   "display_name": "Python 3",
   "language": "python",
   "name": "python3"
  },
  "language_info": {
   "codemirror_mode": {
    "name": "ipython",
    "version": 3
   },
   "file_extension": ".py",
   "mimetype": "text/x-python",
   "name": "python",
   "nbconvert_exporter": "python",
   "pygments_lexer": "ipython3",
   "version": "3.6.8"
  }
 },
 "nbformat": 4,
 "nbformat_minor": 4
}
