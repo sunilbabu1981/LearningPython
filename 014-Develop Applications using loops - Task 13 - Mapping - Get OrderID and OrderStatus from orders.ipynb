{
 "cells": [
  {
   "cell_type": "markdown",
   "metadata": {},
   "source": [
    "This program is to extract orderid and orderstatus from orders"
   ]
  },
  {
   "cell_type": "code",
   "execution_count": 1,
   "metadata": {},
   "outputs": [],
   "source": [
    "# function to read through a file and split the order lines\n",
    "def readData(filepath):\n",
    "    file = open(filepath)\n",
    "    data = file.read()\n",
    "    datalist = data.splitlines()\n",
    "    return datalist"
   ]
  },
  {
   "cell_type": "code",
   "execution_count": 2,
   "metadata": {},
   "outputs": [],
   "source": [
    "orderPath = \"/data/retail_db/orders/part-00000\"\n",
    "orders = readData(orderPath)"
   ]
  },
  {
   "cell_type": "code",
   "execution_count": 5,
   "metadata": {},
   "outputs": [],
   "source": [
    "def getOrderIDandStatus(orders):\n",
    "    orderIDandStatus = []\n",
    "    for order in orders:\n",
    "        orderIDandStatus.append((order.split(',')[0],order.split(',')[3]))\n",
    "    return orderIDandStatus    "
   ]
  },
  {
   "cell_type": "code",
   "execution_count": 6,
   "metadata": {},
   "outputs": [
    {
     "data": {
      "text/plain": [
       "[('1', 'CLOSED'),\n",
       " ('2', 'PENDING_PAYMENT'),\n",
       " ('3', 'COMPLETE'),\n",
       " ('4', 'CLOSED'),\n",
       " ('5', 'COMPLETE'),\n",
       " ('6', 'COMPLETE'),\n",
       " ('7', 'COMPLETE'),\n",
       " ('8', 'PROCESSING'),\n",
       " ('9', 'PENDING_PAYMENT'),\n",
       " ('10', 'PENDING_PAYMENT')]"
      ]
     },
     "execution_count": 6,
     "metadata": {},
     "output_type": "execute_result"
    }
   ],
   "source": [
    "getOrderIDandStatus(orders)[0:10]"
   ]
  },
  {
   "cell_type": "code",
   "execution_count": null,
   "metadata": {},
   "outputs": [],
   "source": []
  }
 ],
 "metadata": {
  "kernelspec": {
   "display_name": "Python 3",
   "language": "python",
   "name": "python3"
  },
  "language_info": {
   "codemirror_mode": {
    "name": "ipython",
    "version": 3
   },
   "file_extension": ".py",
   "mimetype": "text/x-python",
   "name": "python",
   "nbconvert_exporter": "python",
   "pygments_lexer": "ipython3",
   "version": "3.6.8"
  }
 },
 "nbformat": 4,
 "nbformat_minor": 4
}
