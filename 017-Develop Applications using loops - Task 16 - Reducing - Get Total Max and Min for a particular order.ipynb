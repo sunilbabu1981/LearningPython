{
 "cells": [
  {
   "cell_type": "markdown",
   "metadata": {},
   "source": [
    "This program is to find the total revenue for a particular order and \n",
    "also find the min and max of the orders item subtotal"
   ]
  },
  {
   "cell_type": "code",
   "execution_count": 1,
   "metadata": {},
   "outputs": [],
   "source": [
    "# function to read through a file and split the order lines\n",
    "def readData(filepath):\n",
    "    file = open(filepath)\n",
    "    data = file.read()\n",
    "    datalist = data.splitlines()\n",
    "    return datalist"
   ]
  },
  {
   "cell_type": "code",
   "execution_count": 2,
   "metadata": {},
   "outputs": [],
   "source": [
    "# get the order items filtered for the given order id\n",
    "def getOrderitemsfilteredfororderID(orderItems,orderID):\n",
    "    orderitemsfilteredlist = []\n",
    "    for i in orderItems:\n",
    "        if(i.split(',')[1] == orderID):\n",
    "            orderitemsfilteredlist.append(i)\n",
    "    return orderitemsfilteredlist"
   ]
  },
  {
   "cell_type": "code",
   "execution_count": 3,
   "metadata": {},
   "outputs": [],
   "source": [
    "def getOrderItemsMapped(orderitemsfilteredlist):\n",
    "    orderitemsmappedlist = []\n",
    "    for order in orderitemsfilteredlist:\n",
    "        orderitemsmappedlist.append(order.split(',')[4])\n",
    "    return orderitemsmappedlist"
   ]
  },
  {
   "cell_type": "code",
   "execution_count": 4,
   "metadata": {},
   "outputs": [
    {
     "data": {
      "text/plain": [
       "['1,1,957,1,299.98,299.98',\n",
       " '2,2,1073,1,199.99,199.99',\n",
       " '3,2,502,5,250.0,50.0',\n",
       " '4,2,403,1,129.99,129.99',\n",
       " '5,4,897,2,49.98,24.99']"
      ]
     },
     "execution_count": 4,
     "metadata": {},
     "output_type": "execute_result"
    }
   ],
   "source": [
    "orderItems = readData(\"/data/retail_db/order_items/part-00000\")\n",
    "orderItems[0:5]"
   ]
  },
  {
   "cell_type": "code",
   "execution_count": 5,
   "metadata": {},
   "outputs": [],
   "source": [
    "filteredorderItems = getOrderitemsfilteredfororderID(orderItems,'2')"
   ]
  },
  {
   "cell_type": "code",
   "execution_count": 17,
   "metadata": {},
   "outputs": [
    {
     "data": {
      "text/plain": [
       "['199.99', '250.0', '129.99']"
      ]
     },
     "execution_count": 17,
     "metadata": {},
     "output_type": "execute_result"
    }
   ],
   "source": [
    "MappedOrderItemRevenue = getOrderItemsMapped(filteredorderItems)\n",
    "MappedOrderItemRevenue"
   ]
  },
  {
   "cell_type": "code",
   "execution_count": 18,
   "metadata": {},
   "outputs": [],
   "source": [
    "def getTotalMaxandMin(MappedOrderItems):\n",
    "    TotalMaxandMindict = {}\n",
    "    Max = 0\n",
    "    Min = float(MappedOrderItems[0])\n",
    "    TotalMaxandMindict['Total'] = 0\n",
    "    for i in MappedOrderItems:\n",
    "        TotalMaxandMindict['Total'] += float(i)\n",
    "        if(Max < float(i)):\n",
    "            Max = float(i)\n",
    "            TotalMaxandMindict['Max'] = Max\n",
    "        if(Min > float(i)):\n",
    "            Min = float(i)\n",
    "            TotalMaxandMindict['Min'] = Min\n",
    "    return TotalMaxandMindict            "
   ]
  },
  {
   "cell_type": "code",
   "execution_count": 19,
   "metadata": {},
   "outputs": [
    {
     "data": {
      "text/plain": [
       "{'Total': 579.98, 'Max': 250.0, 'Min': 129.99}"
      ]
     },
     "execution_count": 19,
     "metadata": {},
     "output_type": "execute_result"
    }
   ],
   "source": [
    "getTotalMaxandMin(MappedOrderItemRevenue)"
   ]
  },
  {
   "cell_type": "code",
   "execution_count": null,
   "metadata": {},
   "outputs": [],
   "source": []
  }
 ],
 "metadata": {
  "kernelspec": {
   "display_name": "Python 3",
   "language": "python",
   "name": "python3"
  },
  "language_info": {
   "codemirror_mode": {
    "name": "ipython",
    "version": 3
   },
   "file_extension": ".py",
   "mimetype": "text/x-python",
   "name": "python",
   "nbconvert_exporter": "python",
   "pygments_lexer": "ipython3",
   "version": "3.6.8"
  }
 },
 "nbformat": 4,
 "nbformat_minor": 4
}
