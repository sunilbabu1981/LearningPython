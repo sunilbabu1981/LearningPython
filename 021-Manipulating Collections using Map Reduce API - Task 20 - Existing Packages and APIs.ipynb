{
 "cells": [
  {
   "cell_type": "markdown",
   "metadata": {},
   "source": [
    "This program is to demonstrate how to use existing Map Reduce APIs for \n",
    "filtering, mapping and aggregating"
   ]
  },
  {
   "cell_type": "code",
   "execution_count": 1,
   "metadata": {},
   "outputs": [],
   "source": [
    "# function to read through a file and split the order lines\n",
    "def readData(filepath):\n",
    "    file = open(filepath)\n",
    "    data = file.read()\n",
    "    datalist = data.splitlines()\n",
    "    return datalist"
   ]
  },
  {
   "cell_type": "code",
   "execution_count": 2,
   "metadata": {},
   "outputs": [],
   "source": [
    "orderItems = readData(\"/data/retail_db/order_items/part-00000\")"
   ]
  },
  {
   "cell_type": "code",
   "execution_count": 3,
   "metadata": {},
   "outputs": [],
   "source": [
    "filterOrder = filter(lambda oi:oi.split(',')[1] == '2',orderItems)\n"
   ]
  },
  {
   "cell_type": "code",
   "execution_count": 4,
   "metadata": {},
   "outputs": [],
   "source": [
    "mapOrder = map(lambda fo:float(fo.split(',')[4]),filterOrder)\n",
    "mapOrder1 = map(lambda fo:float(fo.split(',')[4]),filterOrder)"
   ]
  },
  {
   "cell_type": "code",
   "execution_count": 5,
   "metadata": {},
   "outputs": [],
   "source": [
    "import functools as ft\n",
    "#help(ft.reduce)\n"
   ]
  },
  {
   "cell_type": "code",
   "execution_count": 6,
   "metadata": {},
   "outputs": [
    {
     "data": {
      "text/plain": [
       "579.98"
      ]
     },
     "execution_count": 6,
     "metadata": {},
     "output_type": "execute_result"
    }
   ],
   "source": [
    "ft.reduce(lambda x,y: x+y, list(mapOrder))"
   ]
  },
  {
   "cell_type": "code",
   "execution_count": 7,
   "metadata": {},
   "outputs": [],
   "source": [
    "#ft.reduce(lambda x,y: x if(x>y) else y,mapOrder)"
   ]
  },
  {
   "cell_type": "code",
   "execution_count": 8,
   "metadata": {},
   "outputs": [],
   "source": [
    "#ft.reduce(lambda x,y: x if(x<y) else y,list(mapOrder1))"
   ]
  }
 ],
 "metadata": {
  "kernelspec": {
   "display_name": "Python 3",
   "language": "python",
   "name": "python3"
  },
  "language_info": {
   "codemirror_mode": {
    "name": "ipython",
    "version": 3
   },
   "file_extension": ".py",
   "mimetype": "text/x-python",
   "name": "python",
   "nbconvert_exporter": "python",
   "pygments_lexer": "ipython3",
   "version": "3.6.8"
  }
 },
 "nbformat": 4,
 "nbformat_minor": 4
}
