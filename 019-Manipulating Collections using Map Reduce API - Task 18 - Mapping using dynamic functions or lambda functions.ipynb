{
 "cells": [
  {
   "cell_type": "markdown",
   "metadata": {},
   "source": [
    "This program is to demonstrate the concept of using lambda functions \n",
    "to incorporate dynamic mapping instead of hardcoded mapping of columns.\n",
    "\n",
    "In this concept, we define \n",
    "filtering functions that take 2 inputs (collection, a dynamic function\n",
    "that has the mapping criteria at runtime). \n",
    "\n",
    "The mapping function loops\n",
    "through the passed collection and \n",
    "invokes the dynamic function on each of the record from the collection to retrieve the columns/fields required.\n",
    "\n",
    "the columns from the collection is appended to the result."
   ]
  },
  {
   "cell_type": "code",
   "execution_count": 1,
   "metadata": {},
   "outputs": [],
   "source": [
    "# function to read through a file and split the order lines\n",
    "def readData(filepath):\n",
    "    file = open(filepath)\n",
    "    data = file.read()\n",
    "    datalist = data.splitlines()\n",
    "    return datalist"
   ]
  },
  {
   "cell_type": "code",
   "execution_count": 6,
   "metadata": {},
   "outputs": [],
   "source": [
    "def myMap(c,f):\n",
    "    result = []\n",
    "    for i in c:\n",
    "        result.append(f(i))\n",
    "    return result"
   ]
  },
  {
   "cell_type": "code",
   "execution_count": 11,
   "metadata": {},
   "outputs": [],
   "source": [
    "orderPath = \"/data/retail_db/orders/part-00000\"\n",
    "orders = readData(orderPath)\n",
    "orderItems = readData(\"/data/retail_db/order_items/part-00000\")"
   ]
  },
  {
   "cell_type": "code",
   "execution_count": 12,
   "metadata": {},
   "outputs": [
    {
     "data": {
      "text/plain": [
       "['1,2013-07-25 00:00:00.0,11599,CLOSED',\n",
       " '2,2013-07-25 00:00:00.0,256,PENDING_PAYMENT',\n",
       " '3,2013-07-25 00:00:00.0,12111,COMPLETE',\n",
       " '4,2013-07-25 00:00:00.0,8827,CLOSED',\n",
       " '5,2013-07-25 00:00:00.0,11318,COMPLETE']"
      ]
     },
     "execution_count": 12,
     "metadata": {},
     "output_type": "execute_result"
    }
   ],
   "source": [
    "orders[0:5]"
   ]
  },
  {
   "cell_type": "code",
   "execution_count": 13,
   "metadata": {},
   "outputs": [
    {
     "data": {
      "text/plain": [
       "[('1', 'CLOSED'),\n",
       " ('2', 'PENDING_PAYMENT'),\n",
       " ('3', 'COMPLETE'),\n",
       " ('4', 'CLOSED'),\n",
       " ('5', 'COMPLETE')]"
      ]
     },
     "execution_count": 13,
     "metadata": {},
     "output_type": "execute_result"
    }
   ],
   "source": [
    "# Get OrderID and Order Status from orders\n",
    "orderIDandStatus = myMap(orders,lambda o: (o.split(',')[0],o.split(',')[3]))\n",
    "orderIDandStatus[0:5]"
   ]
  },
  {
   "cell_type": "code",
   "execution_count": 15,
   "metadata": {},
   "outputs": [
    {
     "data": {
      "text/plain": [
       "[('1', '299.98'),\n",
       " ('2', '199.99'),\n",
       " ('2', '250.0'),\n",
       " ('2', '129.99'),\n",
       " ('4', '49.98')]"
      ]
     },
     "execution_count": 15,
     "metadata": {},
     "output_type": "execute_result"
    }
   ],
   "source": [
    "# Get OrderID and Order Item Subtotal from order items\n",
    "orderIDandSubtotal = myMap(orderItems,lambda oi: (oi.split(',')[1],oi.split(',')[4]))\n",
    "orderIDandSubtotal[0:5]"
   ]
  },
  {
   "cell_type": "code",
   "execution_count": 16,
   "metadata": {},
   "outputs": [
    {
     "data": {
      "text/plain": [
       "['2013-07', '2013-07', '2013-07', '2013-07', '2013-07']"
      ]
     },
     "execution_count": 16,
     "metadata": {},
     "output_type": "execute_result"
    }
   ],
   "source": [
    "#Get ordermonth from orders data\n",
    "ordermonth = myMap(orders, lambda o: o.split(',')[1][:7])\n",
    "ordermonth[0:5]"
   ]
  },
  {
   "cell_type": "code",
   "execution_count": null,
   "metadata": {},
   "outputs": [],
   "source": []
  }
 ],
 "metadata": {
  "kernelspec": {
   "display_name": "Python 3",
   "language": "python",
   "name": "python3"
  },
  "language_info": {
   "codemirror_mode": {
    "name": "ipython",
    "version": 3
   },
   "file_extension": ".py",
   "mimetype": "text/x-python",
   "name": "python",
   "nbconvert_exporter": "python",
   "pygments_lexer": "ipython3",
   "version": "3.6.8"
  }
 },
 "nbformat": 4,
 "nbformat_minor": 4
}
