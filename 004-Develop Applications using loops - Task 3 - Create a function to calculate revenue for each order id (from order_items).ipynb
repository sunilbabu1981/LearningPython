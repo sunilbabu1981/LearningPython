{
 "cells": [
  {
   "cell_type": "code",
   "execution_count": 1,
   "metadata": {},
   "outputs": [],
   "source": [
    "#Task3: Get revenue for each order in order items\n",
    "# order of execution : 1. create a function to read a file\n",
    "#                      2. create a function to loop through order item and create a dict with keyvalue as order id and value as revenue"
   ]
  },
  {
   "cell_type": "code",
   "execution_count": 2,
   "metadata": {},
   "outputs": [],
   "source": [
    "# function to read through a file and split the order lines\n",
    "def readData(filepath):\n",
    "    file = open(filepath)\n",
    "    data = file.read()\n",
    "    datalist = data.splitlines()\n",
    "    return datalist"
   ]
  },
  {
   "cell_type": "code",
   "execution_count": 3,
   "metadata": {},
   "outputs": [],
   "source": [
    "def getRevenueforeachOrder(orderItem):\n",
    "    revenuePerOrder = {}\n",
    "    for i in orderItem:\n",
    "        orderIdandRevenue = (int(i.split(',')[1]),float(i.split(',')[4])) # create a tuple that contains order no and revenue per row\n",
    "        if(revenuePerOrder.get(orderIdandRevenue[0])):                    # check if the dict has the order id already\n",
    "            revenuePerOrder[orderIdandRevenue[0]]+= orderIdandRevenue[1]  # if yes, add the current row's revenue to the value of the dict\n",
    "        else:                                           \n",
    "            revenuePerOrder[orderIdandRevenue[0]] = orderIdandRevenue[1]  # if no, create an entry in the dict with current row order id as key\n",
    "                                                                          # and current row revenue as value\n",
    "    return revenuePerOrder"
   ]
  },
  {
   "cell_type": "code",
   "execution_count": 4,
   "metadata": {},
   "outputs": [
    {
     "name": "stdout",
     "output_type": "stream",
     "text": [
      "<class 'dict'>\n"
     ]
    }
   ],
   "source": [
    "RevPerOrder = getRevenueforeachOrder(readData('/data/retail_db/order_items/part-00000'))\n",
    "print(type(RevPerOrder))"
   ]
  },
  {
   "cell_type": "code",
   "execution_count": 5,
   "metadata": {},
   "outputs": [
    {
     "name": "stdout",
     "output_type": "stream",
     "text": [
      "579.98\n"
     ]
    }
   ],
   "source": [
    "print(RevPerOrder[2]) # pass 2 as key for the dict RevPerOrder"
   ]
  },
  {
   "cell_type": "code",
   "execution_count": null,
   "metadata": {},
   "outputs": [],
   "source": []
  }
 ],
 "metadata": {
  "kernelspec": {
   "display_name": "Python 3",
   "language": "python",
   "name": "python3"
  },
  "language_info": {
   "codemirror_mode": {
    "name": "ipython",
    "version": 3
   },
   "file_extension": ".py",
   "mimetype": "text/x-python",
   "name": "python",
   "nbconvert_exporter": "python",
   "pygments_lexer": "ipython3",
   "version": "3.6.8"
  }
 },
 "nbformat": 4,
 "nbformat_minor": 4
}
