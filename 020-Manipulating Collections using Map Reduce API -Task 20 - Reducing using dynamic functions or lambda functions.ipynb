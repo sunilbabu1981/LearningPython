{
 "cells": [
  {
   "cell_type": "markdown",
   "metadata": {},
   "source": [
    "This program is to implement the concept of Reduce in MapReduce to\n",
    "arrive at the aggregate result. Normally a reduce function follows \n",
    "a Map function\n",
    "\n",
    "Here the end result is \n",
    "\n",
    "1. To get Total subtotal or revenue for a given order\n",
    "2. To get the Max Revenue from the line items of a given order\n",
    "3. To get the Min Revenue from the line items of a given order"
   ]
  },
  {
   "cell_type": "code",
   "execution_count": 1,
   "metadata": {},
   "outputs": [],
   "source": [
    "# function to read through a file and split the order lines\n",
    "def readData(filepath):\n",
    "    file = open(filepath)\n",
    "    data = file.read()\n",
    "    datalist = data.splitlines()\n",
    "    return datalist"
   ]
  },
  {
   "cell_type": "code",
   "execution_count": 2,
   "metadata": {},
   "outputs": [],
   "source": [
    "def myFilter(c,f):\n",
    "    fResult = []\n",
    "    for i in c:\n",
    "        if(f(i)):\n",
    "            fResult.append(i)\n",
    "    return fResult"
   ]
  },
  {
   "cell_type": "code",
   "execution_count": 3,
   "metadata": {},
   "outputs": [],
   "source": [
    "def myMap(c,f):\n",
    "    mResult = []\n",
    "    for i in c:\n",
    "        mResult.append(f(i))\n",
    "    return mResult"
   ]
  },
  {
   "cell_type": "code",
   "execution_count": 4,
   "metadata": {},
   "outputs": [],
   "source": [
    "def myReduce(c,f):\n",
    "    rResult = c[0]\n",
    "    for i in c[1:]:\n",
    "        rResult = f(rResult,i)\n",
    "    return rResult    "
   ]
  },
  {
   "cell_type": "code",
   "execution_count": 5,
   "metadata": {},
   "outputs": [],
   "source": [
    "orderItems = readData(\"/data/retail_db/order_items/part-00000\")"
   ]
  },
  {
   "cell_type": "code",
   "execution_count": 6,
   "metadata": {},
   "outputs": [
    {
     "data": {
      "text/plain": [
       "['2,2,1073,1,199.99,199.99', '3,2,502,5,250.0,50.0', '4,2,403,1,129.99,129.99']"
      ]
     },
     "execution_count": 6,
     "metadata": {},
     "output_type": "execute_result"
    }
   ],
   "source": [
    "FilteredOrders = myFilter(orderItems,lambda o:o.split(',')[1] == '2')\n",
    "FilteredOrders"
   ]
  },
  {
   "cell_type": "code",
   "execution_count": 7,
   "metadata": {},
   "outputs": [
    {
     "data": {
      "text/plain": [
       "[199.99, 250.0, 129.99]"
      ]
     },
     "execution_count": 7,
     "metadata": {},
     "output_type": "execute_result"
    }
   ],
   "source": [
    "Revfororder = myMap(FilteredOrders,lambda fo:float(fo.split(',')[4]))\n",
    "Revfororder"
   ]
  },
  {
   "cell_type": "code",
   "execution_count": 9,
   "metadata": {},
   "outputs": [
    {
     "data": {
      "text/plain": [
       "579.98"
      ]
     },
     "execution_count": 9,
     "metadata": {},
     "output_type": "execute_result"
    }
   ],
   "source": [
    "TotRevenueforOrder = myReduce(Revfororder,lambda x,y: x + y)\n",
    "TotRevenueforOrder"
   ]
  },
  {
   "cell_type": "code",
   "execution_count": 10,
   "metadata": {},
   "outputs": [
    {
     "data": {
      "text/plain": [
       "250.0"
      ]
     },
     "execution_count": 10,
     "metadata": {},
     "output_type": "execute_result"
    }
   ],
   "source": [
    "MaxRevenueforOrder = myReduce(Revfororder,lambda x,y: x if(x > y) else y)\n",
    "MaxRevenueforOrder"
   ]
  },
  {
   "cell_type": "code",
   "execution_count": 11,
   "metadata": {},
   "outputs": [
    {
     "data": {
      "text/plain": [
       "129.99"
      ]
     },
     "execution_count": 11,
     "metadata": {},
     "output_type": "execute_result"
    }
   ],
   "source": [
    "MinRevenueforOrder = myReduce(Revfororder,lambda x,y: x if (x < y) else y)\n",
    "MinRevenueforOrder"
   ]
  },
  {
   "cell_type": "code",
   "execution_count": null,
   "metadata": {},
   "outputs": [],
   "source": []
  }
 ],
 "metadata": {
  "kernelspec": {
   "display_name": "Python 3",
   "language": "python",
   "name": "python3"
  },
  "language_info": {
   "codemirror_mode": {
    "name": "ipython",
    "version": 3
   },
   "file_extension": ".py",
   "mimetype": "text/x-python",
   "name": "python",
   "nbconvert_exporter": "python",
   "pygments_lexer": "ipython3",
   "version": "3.6.8"
  }
 },
 "nbformat": 4,
 "nbformat_minor": 4
}
