{
 "cells": [
  {
   "cell_type": "markdown",
   "metadata": {},
   "source": [
    "This program calculates the no. of orders per month. "
   ]
  },
  {
   "cell_type": "code",
   "execution_count": 1,
   "metadata": {},
   "outputs": [],
   "source": [
    "# function to read through a file and split the order lines\n",
    "def readData(filepath):\n",
    "    file = open(filepath)\n",
    "    data = file.read()\n",
    "    datalist = data.splitlines()\n",
    "    return datalist"
   ]
  },
  {
   "cell_type": "code",
   "execution_count": 2,
   "metadata": {},
   "outputs": [],
   "source": [
    "Orders = readData(\"/data/retail_db/orders/part-00000\")"
   ]
  },
  {
   "cell_type": "code",
   "execution_count": 3,
   "metadata": {},
   "outputs": [
    {
     "name": "stdout",
     "output_type": "stream",
     "text": [
      "['1,2013-07-25 00:00:00.0,11599,CLOSED', '2,2013-07-25 00:00:00.0,256,PENDING_PAYMENT', '3,2013-07-25 00:00:00.0,12111,COMPLETE', '4,2013-07-25 00:00:00.0,8827,CLOSED', '5,2013-07-25 00:00:00.0,11318,COMPLETE', '6,2013-07-25 00:00:00.0,7130,COMPLETE', '7,2013-07-25 00:00:00.0,4530,COMPLETE', '8,2013-07-25 00:00:00.0,2911,PROCESSING', '9,2013-07-25 00:00:00.0,5657,PENDING_PAYMENT', '10,2013-07-25 00:00:00.0,5648,PENDING_PAYMENT']\n"
     ]
    }
   ],
   "source": [
    "print(Orders[0:10])"
   ]
  },
  {
   "cell_type": "code",
   "execution_count": 4,
   "metadata": {},
   "outputs": [],
   "source": [
    "def getOrdersbyMonth(Orders):\n",
    "    OrdersbyMonth = {}                            # create an empty dictionary to store result\n",
    "    for order in Orders:\n",
    "        orderdate = str(order.split(',')[1][0:7]) # split the row with delimiter and get the year and month string\n",
    "        if(OrdersbyMonth.get(orderdate)):\n",
    "            OrdersbyMonth[orderdate]+=1           # for each row, if the year-month combo is in the dict , increase the count by 1\n",
    "        else:\n",
    "            OrdersbyMonth[orderdate]=1            # if the combo is not in dict, create a new entry with count = 1\n",
    "    return OrdersbyMonth\n",
    "    "
   ]
  },
  {
   "cell_type": "code",
   "execution_count": 5,
   "metadata": {},
   "outputs": [
    {
     "data": {
      "text/plain": [
       "{'2013-07': 1533,\n",
       " '2013-08': 5680,\n",
       " '2013-09': 5841,\n",
       " '2013-10': 5335,\n",
       " '2013-11': 6381,\n",
       " '2013-12': 5892,\n",
       " '2014-01': 5908,\n",
       " '2014-02': 5635,\n",
       " '2014-03': 5778,\n",
       " '2014-04': 5657,\n",
       " '2014-05': 5467,\n",
       " '2014-06': 5308,\n",
       " '2014-07': 4468}"
      ]
     },
     "execution_count": 5,
     "metadata": {},
     "output_type": "execute_result"
    }
   ],
   "source": [
    "OrdersbyMonthDict = getOrdersbyMonth(Orders)\n",
    "OrdersbyMonthDict"
   ]
  },
  {
   "cell_type": "code",
   "execution_count": null,
   "metadata": {},
   "outputs": [],
   "source": []
  }
 ],
 "metadata": {
  "kernelspec": {
   "display_name": "Python 3",
   "language": "python",
   "name": "python3"
  },
  "language_info": {
   "codemirror_mode": {
    "name": "ipython",
    "version": 3
   },
   "file_extension": ".py",
   "mimetype": "text/x-python",
   "name": "python",
   "nbconvert_exporter": "python",
   "pygments_lexer": "ipython3",
   "version": "3.6.8"
  }
 },
 "nbformat": 4,
 "nbformat_minor": 4
}
