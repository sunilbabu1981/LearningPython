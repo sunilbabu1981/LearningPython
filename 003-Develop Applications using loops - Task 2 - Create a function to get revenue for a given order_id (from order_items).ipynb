{
 "cells": [
  {
   "cell_type": "code",
   "execution_count": 1,
   "metadata": {},
   "outputs": [],
   "source": [
    "# Task 2 : Get a particular order id's revenue. To do that you need to loop into order items and add the revenue for each item."
   ]
  },
  {
   "cell_type": "code",
   "execution_count": 2,
   "metadata": {},
   "outputs": [],
   "source": [
    "# function to read through a file and split the order lines\n",
    "def readData(filepath):\n",
    "    file = open(filepath)\n",
    "    data = file.read()\n",
    "    datalist = data.splitlines()\n",
    "    return datalist"
   ]
  },
  {
   "cell_type": "code",
   "execution_count": 3,
   "metadata": {},
   "outputs": [],
   "source": [
    "# function to get the orderItem file and the corresponding orderno whose revenue needs to be retrieved\n",
    "# parameter1 : orderItem file (hint: output of the readData function after passing the file path of the orderItem file)\n",
    "# parameter2 : orderno (eg: 2)\n",
    "def getOrderRevenue(orderItem, Orderno):\n",
    "    itemRevenue = 0\n",
    "    rows = 0\n",
    "    for i in orderItem:\n",
    "        if(i.split(',')[1] == str(Orderno)):\n",
    "            #rows+=1\n",
    "            #print(rows)\n",
    "            itemRevenue+=float(i.split(',')[4])\n",
    "    return itemRevenue"
   ]
  },
  {
   "cell_type": "code",
   "execution_count": 4,
   "metadata": {},
   "outputs": [],
   "source": [
    "# pass order item file and orderno\n",
    "orderRevenue = getOrderRevenue(readData('/data/retail_db/order_items/part-00000'),2)"
   ]
  },
  {
   "cell_type": "code",
   "execution_count": 5,
   "metadata": {},
   "outputs": [
    {
     "name": "stdout",
     "output_type": "stream",
     "text": [
      "579.98\n"
     ]
    }
   ],
   "source": [
    "print(orderRevenue)"
   ]
  },
  {
   "cell_type": "code",
   "execution_count": null,
   "metadata": {},
   "outputs": [],
   "source": []
  }
 ],
 "metadata": {
  "kernelspec": {
   "display_name": "Python 3",
   "language": "python",
   "name": "python3"
  },
  "language_info": {
   "codemirror_mode": {
    "name": "ipython",
    "version": 3
   },
   "file_extension": ".py",
   "mimetype": "text/x-python",
   "name": "python",
   "nbconvert_exporter": "python",
   "pygments_lexer": "ipython3",
   "version": "3.6.8"
  }
 },
 "nbformat": 4,
 "nbformat_minor": 4
}
